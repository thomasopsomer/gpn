{
  "cells": [
    {
      "cell_type": "markdown",
      "metadata": {
        "id": "8B2MO9GJqTsH"
      },
      "source": [
        "## Setup"
      ]
    },
    {
      "cell_type": "code",
      "execution_count": null,
      "metadata": {
        "colab": {
          "base_uri": "https://localhost:8080/"
        },
        "id": "Ff_VhW6GciQ-",
        "outputId": "d4db6e00-4247-4033-e183-15e95bc09a2e"
      },
      "outputs": [],
      "source": [
        "!pip install --quiet git+https://github.com/songlab-cal/gpn.git"
      ]
    },
    {
      "cell_type": "code",
      "execution_count": null,
      "metadata": {
        "id": "w1NVT828inDl"
      },
      "outputs": [],
      "source": [
        "import gpn.model\n",
        "import matplotlib.pyplot as plt\n",
        "import pandas as pd\n",
        "import seaborn as sns\n",
        "from sklearn.preprocessing import StandardScaler\n",
        "import torch\n",
        "from transformers import AutoModel, AutoModelForMaskedLM, AutoTokenizer"
      ]
    },
    {
      "cell_type": "code",
      "execution_count": null,
      "metadata": {
        "id": "1vEIfi01nVf3"
      },
      "outputs": [],
      "source": [
        "model_path = \"songlab/gpn-brassicales\""
      ]
    },
    {
      "cell_type": "markdown",
      "metadata": {
        "id": "m1UWIDDproyK"
      },
      "source": [
        "Example region: chr5:3566900-3567600\n",
        "\n",
        "[UCSC Genome Browser view](https://genome.ucsc.edu/cgi-bin/hgTracks?db=hub_2660163_GCF_000001735.4&lastVirtModeType=default&lastVirtModeExtraState=&virtModeType=default&virtMode=0&nonVirtPosition=&position=chr5%3A3566900%2D3567600&hgsid=1597075775_CFnbwi2A0U0D8AuOgfJ0LsbUXnOb)"
      ]
    },
    {
      "cell_type": "code",
      "execution_count": null,
      "metadata": {
        "colab": {
          "base_uri": "https://localhost:8080/"
        },
        "id": "tGRtdN-jnTeE",
        "outputId": "4de595f2-7936-4f13-a7d9-490fe0d2b6a7"
      },
      "outputs": [],
      "source": [
        "seq = \"CGGGTTAAAAATCTAGTTGTTATTATTAAAGGAAATAAAATATCCTCATAAAACAATTTGTTGTAATCTATCTTTGGGCTAATGTTCTTATCCTACAAGACGAACCCTGACCGTATTCGTCGTAGAAAAAAAATTGCTTCGATCCCATCATTGAGTTCAATAATCGGCGCACAAAGGCCGATTCATAAAAACTCTAGGCCCATTAAAGTAAAGCCCATTCTCAACCCTATCCAGTCTCCCTGTATATATATATTTACGACACCAACCCAGCGTTGATATTTAATTTTCTTCAGTCAGAGATTTCGAAACCCTAGTCGATTTCGAGATCCAACTAACTCTGCTCCTTATCTCAGGTAAAATTCTCGCTCGAGAACTCAATTGCTTATCCAAAGTTCCAACTGAAGATGCTTTCCTACTGAATCTTAGGTTAATGTTTTGGATTTGGAATCTTACCCGAAATTTCTCTGCAGCTTGTTGAATTTGCGAAGTATGGGAGACGCTAGAGACAACGAAGCCTACGAGGAGGAGCTCTTGGACTATGAAGAAGAAGACGAGAAGGTCCCAGATTCTGGAAACAAAGTTAACGGCGAAGCTGTGAAAAAGTGAGTTTTATGGTTTCCTCGATATGTTTCATGTATACTACTGTGTGTTTAAATTTGTCGATTCTTAGATTACTACTTGATAACAAGTAGCAGTATGT\"\n",
        "len(seq)"
      ]
    },
    {
      "cell_type": "markdown",
      "metadata": {
        "id": "QP8qJdMLqL8C"
      },
      "source": [
        "## Tokenization"
      ]
    },
    {
      "cell_type": "code",
      "execution_count": null,
      "metadata": {
        "colab": {
          "base_uri": "https://localhost:8080/"
        },
        "id": "ZALe2S-YjtOW",
        "outputId": "f95675f5-ef45-4661-a096-edb1f05ff033"
      },
      "outputs": [],
      "source": [
        "tokenizer = AutoTokenizer.from_pretrained(model_path)\n",
        "tokenizer.get_vocab()"
      ]
    },
    {
      "cell_type": "code",
      "execution_count": null,
      "metadata": {
        "colab": {
          "base_uri": "https://localhost:8080/"
        },
        "id": "MSP_Boyknu3h",
        "outputId": "66c7e8ff-c120-4058-f62c-e1ba500bb539"
      },
      "outputs": [],
      "source": [
        "input_ids = tokenizer(seq, return_tensors=\"pt\", return_attention_mask=False, return_token_type_ids=False)[\"input_ids\"]\n",
        "print(input_ids.shape)\n",
        "input_ids[0, :10]"
      ]
    },
    {
      "cell_type": "markdown",
      "metadata": {
        "id": "UPO1F9AMqX4j"
      },
      "source": [
        "## Embedding"
      ]
    },
    {
      "cell_type": "code",
      "execution_count": null,
      "metadata": {
        "colab": {
          "base_uri": "https://localhost:8080/"
        },
        "id": "fzoGR-oJn6cm",
        "outputId": "9047a58d-22bb-4306-fe66-467123139fc0"
      },
      "outputs": [],
      "source": [
        "model = AutoModel.from_pretrained(model_path)\n",
        "model.eval();"
      ]
    },
    {
      "cell_type": "code",
      "execution_count": null,
      "metadata": {
        "colab": {
          "base_uri": "https://localhost:8080/"
        },
        "id": "N-myY8EoozJb",
        "outputId": "6ced8210-3d68-4998-b3d4-1c4eef9c5026"
      },
      "outputs": [],
      "source": [
        "with torch.no_grad():\n",
        "    embedding = model(input_ids=input_ids).last_hidden_state\n",
        "embedding.shape"
      ]
    },
    {
      "cell_type": "code",
      "execution_count": null,
      "metadata": {
        "id": "zVa0nPDcuB8i"
      },
      "outputs": [],
      "source": [
        "# Let's do a quick visualization. We'll standardize the embeddings."
      ]
    },
    {
      "cell_type": "code",
      "execution_count": null,
      "metadata": {
        "colab": {
          "base_uri": "https://localhost:8080/",
          "height": 455
        },
        "id": "cA3-evQtqy9Y",
        "outputId": "69655c44-edb5-47af-e4cd-ca95ebd4dc74"
      },
      "outputs": [],
      "source": [
        "embedding_df = pd.DataFrame(StandardScaler().fit_transform(embedding[0].numpy()))\n",
        "embedding_df.index.name = \"Position\"\n",
        "embedding_df.columns.name = \"Embedding dimension\"\n",
        "embedding_df"
      ]
    },
    {
      "cell_type": "code",
      "execution_count": null,
      "metadata": {
        "colab": {
          "base_uri": "https://localhost:8080/",
          "height": 392
        },
        "id": "TzmA3rxus4D0",
        "outputId": "879d9bfc-c04c-40f3-fbdf-3f8fe8c3f048"
      },
      "outputs": [],
      "source": [
        "# If you squint you can see the exon locations :)\n",
        "plt.figure(figsize=(10, 6))\n",
        "sns.heatmap(embedding_df.T, center=0, vmin=-3, vmax=3, cmap=\"coolwarm\", square=True, xticklabels=100, yticklabels=100);"
      ]
    },
    {
      "cell_type": "markdown",
      "metadata": {
        "id": "wdXhFoV7qZ0E"
      },
      "source": [
        "## Masked language modeling"
      ]
    },
    {
      "cell_type": "code",
      "execution_count": null,
      "metadata": {
        "id": "NIylcjPPowiV"
      },
      "outputs": [],
      "source": [
        "model_for_mlm = AutoModelForMaskedLM.from_pretrained(model_path)\n",
        "model_for_mlm.eval();"
      ]
    },
    {
      "cell_type": "code",
      "execution_count": null,
      "metadata": {
        "colab": {
          "base_uri": "https://localhost:8080/",
          "height": 36
        },
        "id": "V7Cd2NkxxSPr",
        "outputId": "21c7e04b-91e4-4201-b057-284fb356e17a"
      },
      "outputs": [],
      "source": [
        "seq[489:492]  # Start codon"
      ]
    },
    {
      "cell_type": "code",
      "execution_count": null,
      "metadata": {
        "id": "kO9rF0G1z9Kh"
      },
      "outputs": [],
      "source": [
        "pos = 489  # Let's mask the A and check the model predictions\n",
        "input_ids[0, pos] = tokenizer.mask_token_id"
      ]
    },
    {
      "cell_type": "code",
      "execution_count": null,
      "metadata": {
        "colab": {
          "base_uri": "https://localhost:8080/"
        },
        "id": "cAtduiXdpCmm",
        "outputId": "ec17dc8f-1c5b-4251-9fc0-de8232940550"
      },
      "outputs": [],
      "source": [
        "input_ids\n",
        "with torch.no_grad():\n",
        "    all_logits = model_for_mlm(input_ids=input_ids).logits\n",
        "all_logits.shape"
      ]
    },
    {
      "cell_type": "code",
      "execution_count": null,
      "metadata": {
        "colab": {
          "base_uri": "https://localhost:8080/"
        },
        "id": "BHawpuUv0HhS",
        "outputId": "c4353077-3885-4ee7-8444-53f91c31e405"
      },
      "outputs": [],
      "source": [
        "nucleotides = list('acgt')\n",
        "logits = all_logits[0, pos, [tokenizer.get_vocab()[nc] for nc in nucleotides]]\n",
        "logits"
      ]
    },
    {
      "cell_type": "code",
      "execution_count": null,
      "metadata": {
        "colab": {
          "base_uri": "https://localhost:8080/"
        },
        "id": "t4VpWv510N8h",
        "outputId": "e18d1545-9295-4318-e56d-7e511220ddd0"
      },
      "outputs": [],
      "source": [
        "probs = torch.nn.functional.softmax(logits, dim=0).numpy()\n",
        "probs"
      ]
    },
    {
      "cell_type": "code",
      "execution_count": null,
      "metadata": {
        "colab": {
          "base_uri": "https://localhost:8080/",
          "height": 296
        },
        "id": "2Wf18aOY1ad8",
        "outputId": "3b0e0f35-22d6-4035-8460-347a72a85b33"
      },
      "outputs": [],
      "source": [
        "probs_df = pd.DataFrame(dict(nucleotide=nucleotides, probability=probs))\n",
        "sns.barplot(data=probs_df, x=\"nucleotide\", y=\"probability\")"
      ]
    }
  ],
  "metadata": {
    "colab": {
      "provenance": []
    },
    "kernelspec": {
      "display_name": "Python 3",
      "name": "python3"
    },
    "language_info": {
      "codemirror_mode": {
        "name": "ipython",
        "version": 3
      },
      "file_extension": ".py",
      "mimetype": "text/x-python",
      "name": "python",
      "nbconvert_exporter": "python",
      "pygments_lexer": "ipython3",
      "version": "3.10.12"
    }
  },
  "nbformat": 4,
  "nbformat_minor": 0
}
